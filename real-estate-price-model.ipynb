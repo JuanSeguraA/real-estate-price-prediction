{
 "cells": [
  {
   "cell_type": "markdown",
   "id": "69fe9935",
   "metadata": {},
   "source": [
    "# Real Estate Price Prediction\n",
    "\n",
    "## 1. Introduction\n",
    "\n",
    "This project uses a real estate dataset alongside machine learning techniques to predict the prices of future real estate in that area. \n",
    "The dataset consists of real estate data from Madrid, Spain. \n",
    "\n",
    "<img src=\"images\\repp-intro.png\" alt=\"Confusion matrix\" width=\"500\">\n",
    "\n",
    "\n",
    "**Motivation and Impact:**\n",
    "- Provide data-driven insights for investors who are curious in buying/selling properties\n",
    "- Assist real estate agencies with market analysis and strategy design\n",
    "- Help homebuyers and sellers evaluate property prices to ensure lower-risk and better informed decisions\n",
    "- Uncover relationships between real estate characteristics that explain price fluctuation\n",
    "\n",
    "**Goal**\n",
    "\n",
    "The main goal is to derive valuable data-driven insights from the dataset using advanced visualization techniques and a variety of machine learning techniques. \n",
    "\n",
    "**Dataset**\n",
    "\n",
    "We use the [Madrid real estate market](https://www.kaggle.com/datasets/mirbektoktogaraev/madrid-real-estate-market) dataset on [Kaggle](https://www.kaggle.com/).\n",
    "\n",
    "**Workflow**\n",
    "\n",
    "1. x\n",
    "2. y\n",
    "3. z\n",
    "\n",
    "**Tools**\n",
    "\n",
    "- Python 3.11\n",
    "- Pandas, Numpy, Matplotlib, Seaborn\n",
    "- Scikit-learn\n",
    "- Etc.\n",
    "\n",
    "**Intended Outcome**\n",
    "\n",
    "By the end of the project, we'll have found the ML model that best generalizes to unforseen data, as well as insights to which features most strongly influence real estate pricing.\n",
    "\n"
   ]
  }
 ],
 "metadata": {
  "kernelspec": {
   "display_name": ".venv",
   "language": "python",
   "name": "python3"
  },
  "language_info": {
   "codemirror_mode": {
    "name": "ipython",
    "version": 3
   },
   "file_extension": ".py",
   "mimetype": "text/x-python",
   "name": "python",
   "nbconvert_exporter": "python",
   "pygments_lexer": "ipython3",
   "version": "3.12.6"
  }
 },
 "nbformat": 4,
 "nbformat_minor": 5
}
