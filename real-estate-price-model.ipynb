{
 "cells": [
  {
   "cell_type": "code",
   "execution_count": null,
   "id": "63c4e7de",
   "metadata": {
    "vscode": {
     "languageId": "plaintext"
    }
   },
   "outputs": [],
   "source": [
    "testing\n",
    "testing\n",
    "\n",
    "juan test \n",
    "juan test 2"
   ]
  }
 ],
 "metadata": {
  "language_info": {
   "name": "python"
  }
 },
 "nbformat": 4,
 "nbformat_minor": 5
}
